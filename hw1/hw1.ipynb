{
 "cells": [
  {
   "cell_type": "code",
   "execution_count": 52,
   "metadata": {},
   "outputs": [],
   "source": [
    "from selenium import webdriver\n",
    "import pandas as pd\n",
    "import time\n",
    "import os\n",
    "\n",
    "chrome_driver_path = './chromedriver'\n",
    "etf_alt_file = './Alternatives ETF List (35).csv'\n",
    "etf_vol_file = './Volatility ETF List (18).csv'\n",
    "download_location = './'\n",
    "\n",
    "etfdb_url = 'https://etfdb.com/etfs/'\n",
    "etf_prefix_url = 'https://etfdb.com/etf/'"
   ]
  },
  {
   "cell_type": "code",
   "execution_count": 18,
   "metadata": {},
   "outputs": [],
   "source": [
    "etf_alt = pd.read_csv(etf_alt_file)\n",
    "etf_vol = pd.read_csv(etf_vol_file)"
   ]
  },
  {
   "cell_type": "code",
   "execution_count": 60,
   "metadata": {},
   "outputs": [],
   "source": [
    "alt_symbols = etf_alt['Symbol'].tolist()\n",
    "vol_symbols = etf_vol['Symbol'].tolist()"
   ]
  },
  {
   "cell_type": "code",
   "execution_count": null,
   "metadata": {},
   "outputs": [],
   "source": []
  },
  {
   "cell_type": "code",
   "execution_count": 61,
   "metadata": {},
   "outputs": [],
   "source": [
    "all_symbols = []\n",
    "all_symbols.extend(alt_symbols)\n",
    "all_symbols.extend(vol_symbols)"
   ]
  },
  {
   "cell_type": "code",
   "execution_count": 62,
   "metadata": {},
   "outputs": [
    {
     "data": {
      "text/plain": [
       "53"
      ]
     },
     "execution_count": 62,
     "metadata": {},
     "output_type": "execute_result"
    }
   ],
   "source": [
    "len(all_symbols)"
   ]
  },
  {
   "cell_type": "code",
   "execution_count": 63,
   "metadata": {
    "collapsed": true
   },
   "outputs": [
    {
     "data": {
      "text/plain": [
       "['QAI',\n",
       " 'MNA',\n",
       " 'WTMF',\n",
       " 'FTLS',\n",
       " 'DYLS',\n",
       " 'RLY',\n",
       " 'DIVY',\n",
       " 'CPI',\n",
       " 'JPMF',\n",
       " 'HTUS',\n",
       " 'CLIX',\n",
       " 'BTAL',\n",
       " 'HDG',\n",
       " 'JPED',\n",
       " 'JPLS',\n",
       " 'VAMO',\n",
       " 'QMN',\n",
       " 'GARD',\n",
       " 'ULBR',\n",
       " 'FLAG',\n",
       " 'FMF',\n",
       " 'RALS',\n",
       " 'MOM',\n",
       " 'ALTS',\n",
       " 'MCRO',\n",
       " 'QLS',\n",
       " 'MRGR',\n",
       " 'DFND',\n",
       " 'DIVA',\n",
       " 'QED',\n",
       " 'FUT',\n",
       " 'DLBR',\n",
       " 'SIZ',\n",
       " 'CHEP',\n",
       " 'RPUT',\n",
       " 'VXXB',\n",
       " 'SVXY',\n",
       " 'TVIX',\n",
       " 'UVXY',\n",
       " 'VIXY',\n",
       " 'ZIV',\n",
       " 'UOCT',\n",
       " 'VIXM',\n",
       " 'VIIX',\n",
       " 'UJUL',\n",
       " 'POCT',\n",
       " 'BOCT',\n",
       " 'VXZB',\n",
       " 'EXIV',\n",
       " 'PJUL',\n",
       " 'XVZ',\n",
       " 'BJUL',\n",
       " 'EVIX']"
      ]
     },
     "execution_count": 63,
     "metadata": {},
     "output_type": "execute_result"
    }
   ],
   "source": [
    "all_symbols"
   ]
  },
  {
   "cell_type": "markdown",
   "metadata": {},
   "source": [
    "## Info crawler"
   ]
  },
  {
   "cell_type": "code",
   "execution_count": 108,
   "metadata": {},
   "outputs": [
    {
     "name": "stderr",
     "output_type": "stream",
     "text": [
      "/usr/local/lib/python3.6/dist-packages/ipykernel_launcher.py:5: DeprecationWarning: use options instead of chrome_options\n",
      "  \"\"\"\n"
     ]
    },
    {
     "name": "stdout",
     "output_type": "stream",
     "text": [
      "QAI: IndexIQ    http://www.indexiq.com/etfs/etfsiqh/etfsiqhmultistrat.html\n",
      "MNA: IndexIQ    http://www.indexiq.com/etfs/etfsiqh/iq-merger-arbitrage-etf.html\n",
      "WTMF: WisdomTree    https://www.wisdomtree.com/etfs/alternative/wtmf\n",
      "FTLS: First Trust    http://www.ftportfolios.com/Retail/Etf/EtfSummary.aspx?Ticker=FTLS\n",
      "DYLS: WisdomTree    http://www.wisdomtree.com/etfs/fund-details-alternative.aspx?etfid=124\n",
      "RLY: State Street SPDR    https://www.spdrs.com/product/fund.seam?ticker=RLY\n",
      "DIVY: Reality Shares    http://www.realityshares.com/funds/divy/\n",
      "CPI: IndexIQ    http://www.indexiq.com/etfs/real-return-inflation-hedge/iq-real-return-etf.html\n",
      "JPMF: J.P. Morgan    https://am.jpmorgan.com/us/en/asset-management/gim/adv/products/d/jpmorgan-managed-futures-strategy-etf-etf-shares-46641q829\n",
      "HTUS: Exchange Traded Concepts    http://www.hulltacticalfunds.com/fund-summary.aspx\n",
      "CLIX: ProShares    http://www.proshares.com/funds/clix.html\n",
      "BTAL: AGFiQ Asset Management    http://www.quant-shares.com/etf-list/anti-beta-etf-btal/\n",
      "HDG: ProShares    http://proshares.com/funds/hdg.html\n",
      "JPED: J.P. Morgan    https://am.jpmorgan.com/us/en/asset-management/gim/adv/products/d/jpmorgan-event-driven-etf-etf-shares-46641q860\n",
      "JPLS: J.P. Morgan    https://am.jpmorgan.com/us/en/asset-management/gim/adv/products/d/jpmorgan-long-short-etf-etf-shares-46641q811\n",
      "VAMO: Cambria    http://www.cambriafunds.com/vamo.aspx\n",
      "QMN: IndexIQ    http://www.indexiq.com/etfs/etfsiqh/iq-hedge-market-neutral-tracker-etf.html\n",
      "GARD: Reality Shares    http://www.realityshares.com/funds/gard/\n",
      "ULBR: Citigroup    http://www.velocitysharesetns.com/ulbr\n",
      "FLAG: Exchange Traded Concepts    http://www.flagetf.com/\n",
      "FMF: First Trust    http://www.ftportfolios.com/Retail/Etf/EtfSummary.aspx?Ticker=FMF\n",
      "RALS: ProShares    http://proshares.com/funds/rals.html\n",
      "MOM: AGFiQ Asset Management    http://www.quant-shares.com/etf-list/momentum-etf-mom/\n",
      "ALTS: ProShares    http://www.proshares.com/funds/alts.html\n",
      "MCRO: IndexIQ    http://www.indexiq.com/etfs/etfsiqh/etfsiqhmacro.html\n",
      "QLS: IndexIQ    http://www.indexiq.com/etfs/etfsiqh/iq-hedge-longshort-etf.html\n",
      "MRGR: ProShares    http://www.proshares.com/funds/mrgr.html\n",
      "DFND: Reality Shares    http://www.realityshares.com/funds/dfnd/\n",
      "DIVA: AGFiQ Asset Management    http://www.quant-shares.com/etf-list/hedged-dividend-income-etf-diva/\n",
      "QED: IndexIQ    http://www.indexiq.com/etfs/etfsiqh/etfsiqheventdriven.html\n",
      "FUT: ProShares    http://www.proshares.com/funds/fut.html\n",
      "DLBR: Citigroup    http://www.velocitysharesetns.com/dlbr\n",
      "SIZ: AGFiQ Asset Management    http://www.quant-shares.com/etf-list/size-etf-siz/\n",
      "CHEP: AGFiQ Asset Management    http://www.quant-shares.com/etf-list/value-etf-chep/\n",
      "RPUT: WisdomTree    https://www.wisdomtree.com/etfs/alternative/rput\n",
      "VXXB: Barclays Capital    http://www.ipathetn.com/US/16/en/details.app?instrumentId=341408\n",
      "SVXY: ProShares    http://proshares.com/funds/svxy.html\n",
      "TVIX: Credit Suisse    http://www.velocitysharesetns.com/tvix\n",
      "UVXY: ProShares    http://proshares.com/funds/uvxy.html\n",
      "VIXY: ProShares    http://proshares.com/funds/vixy.html\n",
      "ZIV: Credit Suisse    http://www.velocitysharesetns.com/ziv\n",
      "UOCT: Innovator Management    http://www.innovatoretfs.com/etf/?ticker=uoct\n",
      "VIXM: ProShares    http://proshares.com/funds/vixm.html\n",
      "VIIX: Credit Suisse    http://www.velocitysharesetns.com/viix\n",
      "UJUL: Innovator Management    http://www.innovatoretfs.com/etf/?ticker=ujul\n",
      "POCT: Innovator Management    http://www.innovatoretfs.com/etf/?ticker=poct\n",
      "BOCT: Innovator Management    http://www.innovatoretfs.com/etf/?ticker=boct\n",
      "VXZB: Barclays Capital    http://www.ipathetn.com/US/16/en/details.app?instrumentId=341615\n",
      "EXIV: UBS    http://www.velocitysharesetns.com/exiv\n",
      "PJUL: Innovator Management    http://www.innovatoretfs.com/etf/?ticker=pjul\n",
      "XVZ: Barclays Capital    http://www.ipathetn.com/us/product/XVZ/\n",
      "BJUL: Innovator Management    http://www.innovatoretfs.com/etf/?ticker=bjul\n",
      "EVIX: UBS    http://www.velocitysharesetns.com/evix\n"
     ]
    }
   ],
   "source": [
    "options = webdriver.ChromeOptions()\n",
    "prefs = {\"download.default_directory\": download_location}\n",
    "options.add_experimental_option(\"prefs\", prefs)\n",
    "\n",
    "driver = webdriver.Chrome(chrome_driver_path, chrome_options=options)\n",
    "\n",
    "symbol_list = []\n",
    "issuer_list = []\n",
    "hp_url_list = []\n",
    "\n",
    "for symbol in all_symbols:\n",
    "    target_url = os.path.join(etf_prefix_url, symbol)\n",
    "    driver.get(target_url)\n",
    "    issuer_element = driver.find_element_by_xpath(\"//ul[@class='breadcrumb pull-left']//li[3]//a\")\n",
    "    issuer_text = issuer_element.text\n",
    "    hp_url = driver.find_element_by_link_text('Home page').get_attribute(\"href\")\n",
    "    \n",
    "    print(symbol + ': ' + issuer_text + '    ' + hp_url)\n",
    "    \n",
    "    symbol_list.append(symbol)\n",
    "    issuer_list.append(issuer_text)\n",
    "    hp_url_list.append(hp_url)"
   ]
  },
  {
   "cell_type": "code",
   "execution_count": 105,
   "metadata": {},
   "outputs": [
    {
     "data": {
      "text/plain": [
       "53"
      ]
     },
     "execution_count": 105,
     "metadata": {},
     "output_type": "execute_result"
    }
   ],
   "source": [
    "len(symbol_list)"
   ]
  },
  {
   "cell_type": "code",
   "execution_count": 109,
   "metadata": {},
   "outputs": [
    {
     "data": {
      "text/plain": [
       "53"
      ]
     },
     "execution_count": 109,
     "metadata": {},
     "output_type": "execute_result"
    }
   ],
   "source": [
    "len(issuer_list)"
   ]
  },
  {
   "cell_type": "code",
   "execution_count": 110,
   "metadata": {},
   "outputs": [
    {
     "data": {
      "text/plain": [
       "53"
      ]
     },
     "execution_count": 110,
     "metadata": {},
     "output_type": "execute_result"
    }
   ],
   "source": [
    "len(hp_url_list)"
   ]
  },
  {
   "cell_type": "code",
   "execution_count": 112,
   "metadata": {},
   "outputs": [],
   "source": [
    "df_dict = {'symbol': symbol_list, 'issuer': issuer_list, 'homepage': hp_url_list}\n",
    "df = pd.DataFrame(data=df_dict)\n",
    "df.to_csv('./info.csv')"
   ]
  },
  {
   "cell_type": "code",
   "execution_count": 115,
   "metadata": {},
   "outputs": [
    {
     "data": {
      "text/plain": [
       "{'AGFiQ Asset Management',\n",
       " 'Barclays Capital',\n",
       " 'Cambria',\n",
       " 'Citigroup',\n",
       " 'Credit Suisse',\n",
       " 'Exchange Traded Concepts',\n",
       " 'First Trust',\n",
       " 'IndexIQ',\n",
       " 'Innovator Management',\n",
       " 'J.P. Morgan',\n",
       " 'ProShares',\n",
       " 'Reality Shares',\n",
       " 'State Street SPDR',\n",
       " 'UBS',\n",
       " 'WisdomTree'}"
      ]
     },
     "execution_count": 115,
     "metadata": {},
     "output_type": "execute_result"
    }
   ],
   "source": [
    "set(issuer_list)"
   ]
  },
  {
   "cell_type": "code",
   "execution_count": null,
   "metadata": {},
   "outputs": [],
   "source": []
  },
  {
   "cell_type": "markdown",
   "metadata": {},
   "source": [
    "## IndexIQ"
   ]
  },
  {
   "cell_type": "code",
   "execution_count": 49,
   "metadata": {},
   "outputs": [
    {
     "name": "stderr",
     "output_type": "stream",
     "text": [
      "/usr/local/lib/python3.6/dist-packages/ipykernel_launcher.py:5: DeprecationWarning: use options instead of chrome_options\n",
      "  \"\"\"\n"
     ]
    }
   ],
   "source": [
    "options = webdriver.ChromeOptions()\n",
    "prefs = {\"download.default_directory\": download_location}\n",
    "options.add_experimental_option(\"prefs\", prefs)\n",
    "\n",
    "driver = webdriver.Chrome(chrome_driver_path, chrome_options=options)\n",
    "target_url = os.path.join(etf_prefix_url, 'QAI')\n",
    "driver.get(target_url)\n",
    "\n",
    "driver.find_element_by_link_text('Home page').click()\n",
    "\n",
    "driver.find_element_by_link_text('QAI').click()\n",
    "driver.find_element_by_partial_link_text('Download Historical').click()"
   ]
  },
  {
   "cell_type": "markdown",
   "metadata": {},
   "source": [
    "## WisdomTree"
   ]
  },
  {
   "cell_type": "code",
   "execution_count": 59,
   "metadata": {},
   "outputs": [
    {
     "name": "stderr",
     "output_type": "stream",
     "text": [
      "/usr/local/lib/python3.6/dist-packages/ipykernel_launcher.py:6: DeprecationWarning: use options instead of chrome_options\n",
      "  \n"
     ]
    },
    {
     "name": "stdout",
     "output_type": "stream",
     "text": [
      "https://www.wisdomtree.com/global/etf-details/modals/nav-premium-discount-history?id={F00CF622-A204-495D-839C-31FC915983C2}\n"
     ]
    }
   ],
   "source": [
    "## WisdomTree\n",
    "options = webdriver.ChromeOptions()\n",
    "prefs = {\"download.default_directory\": download_location}\n",
    "options.add_experimental_option(\"prefs\", prefs)\n",
    "\n",
    "driver = webdriver.Chrome(chrome_driver_path, chrome_options=options)\n",
    "target_url = os.path.join(etf_prefix_url, 'WTMF')\n",
    "driver.get(target_url)\n",
    "\n",
    "driver.find_element_by_link_text('Home page').click()\n",
    "driver.find_element_by_link_text('Net Asset Value').click()\n",
    "data_element = driver.find_element_by_xpath(\"//a[contains(@class,'fund-modal-trigger')][contains(text(),'View NAV and Premium/Discount History')]\")\n",
    "data_link = data_element.get_attribute(\"data-href\")\n",
    "print(data_link)"
   ]
  },
  {
   "cell_type": "markdown",
   "metadata": {},
   "source": [
    "# Alternatives"
   ]
  },
  {
   "cell_type": "markdown",
   "metadata": {},
   "source": [
    "## QAI"
   ]
  },
  {
   "cell_type": "code",
   "execution_count": null,
   "metadata": {},
   "outputs": [],
   "source": []
  }
 ],
 "metadata": {
  "kernelspec": {
   "display_name": "Python 3",
   "language": "python",
   "name": "python3"
  },
  "language_info": {
   "codemirror_mode": {
    "name": "ipython",
    "version": 3
   },
   "file_extension": ".py",
   "mimetype": "text/x-python",
   "name": "python",
   "nbconvert_exporter": "python",
   "pygments_lexer": "ipython3",
   "version": "3.6.6"
  }
 },
 "nbformat": 4,
 "nbformat_minor": 2
}
