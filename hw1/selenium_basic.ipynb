{
 "cells": [
  {
   "cell_type": "code",
   "execution_count": 1,
   "metadata": {},
   "outputs": [],
   "source": [
    "from selenium import webdriver\n",
    "\n",
    "chrome_driver_path = '/home/billy/software/chromedriver'\n",
    "target_url = 'https://www.amazon.com/'"
   ]
  },
  {
   "cell_type": "markdown",
   "metadata": {},
   "source": [
    "## 打開網站"
   ]
  },
  {
   "cell_type": "code",
   "execution_count": 2,
   "metadata": {},
   "outputs": [],
   "source": [
    "driver = webdriver.Chrome(chrome_driver_path)\n",
    "# driver.fullscreen_window()\n",
    "driver.get(target_url)"
   ]
  },
  {
   "cell_type": "markdown",
   "metadata": {},
   "source": [
    "## 點擊按鈕 (共有 8 個方式找元素)\n",
    "* find_element_by_id()\n",
    "* find_element_by_name()\n",
    "* find_element_by_xpath()\n",
    "* find_element_by_css_selector()\n",
    "* find_element_by_link_text()\n",
    "* find_element_by_partial_link_text()\n",
    "* find_element_by_class_name()\n",
    "* find_element_by_tag_name()"
   ]
  },
  {
   "cell_type": "markdown",
   "metadata": {},
   "source": [
    "### 利用 id 找 element"
   ]
  },
  {
   "cell_type": "code",
   "execution_count": 17,
   "metadata": {},
   "outputs": [],
   "source": [
    "driver.find_element_by_id(\"nav-your-amazon\").click()"
   ]
  },
  {
   "cell_type": "markdown",
   "metadata": {},
   "source": [
    "### 利用 name 找 element"
   ]
  },
  {
   "cell_type": "code",
   "execution_count": 2,
   "metadata": {},
   "outputs": [],
   "source": [
    "import time"
   ]
  },
  {
   "cell_type": "code",
   "execution_count": 3,
   "metadata": {},
   "outputs": [],
   "source": [
    "target_url = 'https://www.google.com.tw/'"
   ]
  },
  {
   "cell_type": "code",
   "execution_count": 4,
   "metadata": {},
   "outputs": [],
   "source": [
    "driver = webdriver.Chrome(chrome_driver_path)\n",
    "driver.get(target_url)\n",
    "\n",
    "driver.find_element_by_name('q').send_keys('ptt\\n')\n",
    "time.sleep(2)\n",
    "\n",
    "driver.quit()"
   ]
  },
  {
   "cell_type": "markdown",
   "metadata": {},
   "source": [
    "### 利用 link text/partial link text 找 element"
   ]
  },
  {
   "cell_type": "code",
   "execution_count": 32,
   "metadata": {},
   "outputs": [],
   "source": [
    "import time\n",
    "\n",
    "target_url = 'https://www.google.com.tw/'\n",
    "\n",
    "driver = webdriver.Chrome(chrome_driver_path)\n",
    "driver.get(target_url)\n",
    "\n",
    "driver.find_element_by_link_text('Gmail').click()\n",
    "\n",
    "time.sleep(2)\n",
    "\n",
    "driver.back()\n",
    "\n",
    "driver.find_element_by_partial_link_text('mail').click()\n",
    "\n",
    "time.sleep(2)\n",
    "\n",
    "driver.quit()"
   ]
  },
  {
   "cell_type": "markdown",
   "metadata": {},
   "source": [
    "### 利用 Tag Name 找 element"
   ]
  },
  {
   "cell_type": "code",
   "execution_count": 19,
   "metadata": {},
   "outputs": [],
   "source": [
    "import time\n",
    "\n",
    "target_url = 'https://www.google.com.tw/'\n",
    "\n",
    "driver = webdriver.Chrome(chrome_driver_path)\n",
    "driver.get(target_url)\n",
    "\n",
    "elements = driver.find_elements_by_tag_name('a')\n",
    "\n",
    "for e in elements:\n",
    "    if '廣告' in e.text:\n",
    "        e.click()\n",
    "        break\n",
    "\n",
    "time.sleep(2)\n",
    "driver.quit()"
   ]
  },
  {
   "cell_type": "markdown",
   "metadata": {},
   "source": [
    "### 利用 Class Name 找 element"
   ]
  },
  {
   "cell_type": "code",
   "execution_count": 22,
   "metadata": {},
   "outputs": [
    {
     "name": "stdout",
     "output_type": "stream",
     "text": [
      "<selenium.webdriver.remote.webelement.WebElement (session=\"9854627cf15eedea838c9aef6481d8ed\", element=\"0.4789469835988327-1\")>\n"
     ]
    }
   ],
   "source": [
    "import time\n",
    "\n",
    "target_url = 'https://www.google.com.tw/'\n",
    "\n",
    "driver = webdriver.Chrome(chrome_driver_path)\n",
    "driver.get(target_url)\n",
    "\n",
    "driver.find_element_by_class_name('gb_d').click()\n",
    "\n",
    "print(elements)\n",
    "\n",
    "time.sleep(2)\n",
    "driver.quit()"
   ]
  },
  {
   "cell_type": "markdown",
   "metadata": {},
   "source": [
    "### 利用 XPath 找 element"
   ]
  },
  {
   "cell_type": "code",
   "execution_count": 32,
   "metadata": {},
   "outputs": [],
   "source": [
    "import time\n",
    "\n",
    "target_url = 'https://www.google.com.tw/'\n",
    "\n",
    "driver = webdriver.Chrome(chrome_driver_path)\n",
    "driver.get(target_url)\n",
    "\n",
    "driver.find_element_by_xpath('//a[contains(text(),\"廣告\")]').click()\n",
    "\n",
    "time.sleep(2)\n",
    "driver.quit()"
   ]
  },
  {
   "cell_type": "markdown",
   "metadata": {},
   "source": [
    "### 利用 CSS selector 找 element"
   ]
  },
  {
   "cell_type": "code",
   "execution_count": null,
   "metadata": {},
   "outputs": [],
   "source": []
  },
  {
   "cell_type": "code",
   "execution_count": null,
   "metadata": {},
   "outputs": [],
   "source": []
  },
  {
   "cell_type": "code",
   "execution_count": null,
   "metadata": {},
   "outputs": [],
   "source": []
  }
 ],
 "metadata": {
  "kernelspec": {
   "display_name": "Python 3",
   "language": "python",
   "name": "python3"
  },
  "language_info": {
   "codemirror_mode": {
    "name": "ipython",
    "version": 3
   },
   "file_extension": ".py",
   "mimetype": "text/x-python",
   "name": "python",
   "nbconvert_exporter": "python",
   "pygments_lexer": "ipython3",
   "version": "3.6.6"
  }
 },
 "nbformat": 4,
 "nbformat_minor": 2
}
